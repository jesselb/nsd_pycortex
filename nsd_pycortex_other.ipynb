{
 "cells": [
  {
   "cell_type": "code",
   "execution_count": 36,
   "metadata": {},
   "outputs": [],
   "source": [
    "import cortex\n",
    "import nibabel\n",
    "import numpy as np\n",
    "import matplotlib\n",
    "import glob\n",
    "import os\n",
    "from mapdata.nsd_mapdata import nsd_mapdata\n",
    "from mapdata.nsd_datalocation import nsd_datalocation"
   ]
  },
  {
   "cell_type": "markdown",
   "metadata": {},
   "source": [
    "<a id='back_to_top'></a>\n",
    "\n",
    "This notebook is not intended to be run sequentially beginning to end. \\\n",
    "It contains various examples of pycortex or pycortex-related tasks, such as getting your \\\n",
    "functional data to align with the pycortex surface or viewing it in 3D in a web browser.\n",
    "\n",
    "# SECTIONS\n",
    "\n",
    "\n",
    "* [1. Importing subjects and flatmaps](#import_stuff)\n",
    "* [2. Alingment and transforms](#align_xforms)\n",
    "    * 2.1 [Creating transformations inside pycortex (linear only)](#inside_pc)\n",
    "    * 2.2 [Transforming data outside of pycortex (for using identity transform in pycortex)](#outside_pc) \n",
    "* [3. Pycortex interactive web viewer](#pc_webv)\n",
    "\n",
    "\n"
   ]
  },
  {
   "cell_type": "markdown",
   "metadata": {},
   "source": [
    "<a id='import_stuff'></a>\n",
    "\n",
    "## IMPORTING SUBJECTS AND FLATMAPS\n",
    "\n",
    "ONLY RUN THESE FOR *NEW* SUBJECTS NOT ALREADY IN YOUR PYCORTEX DATABASE \\\n",
    "otherwise subject information could be overwritten\n",
    "\n"
   ]
  },
  {
   "cell_type": "code",
   "execution_count": 2,
   "metadata": {},
   "outputs": [],
   "source": [
    "xx_subj = 'subj01'"
   ]
  },
  {
   "cell_type": "code",
   "execution_count": 6,
   "metadata": {},
   "outputs": [],
   "source": [
    "## IMPORT NEW SUBJECT \n",
    "cortex.freesurfer.import_subj(xx_subj)"
   ]
  },
  {
   "cell_type": "code",
   "execution_count": 8,
   "metadata": {},
   "outputs": [
    {
     "name": "stdout",
     "output_type": "stream",
     "text": [
      "Downloading from: https://ndownloader.figshare.com/files/17827577?private_link=4871247dce31e188e758\n",
      "Downloaded subject fsaverage to /tmp\n",
      "Extracting subject fsaverage to /home/newpycortex/pycortex_db\n"
     ]
    }
   ],
   "source": [
    "# IMPORT FSAVERAGE INTO PYCORTEX \n",
    "cortex.download_subject('fsaverage')\n"
   ]
  },
  {
   "cell_type": "code",
   "execution_count": 3,
   "metadata": {},
   "outputs": [
    {
     "name": "stdout",
     "output_type": "stream",
     "text": [
      "Warning: This is intended to over-write .gii files storing\n",
      "flatmap vertex locations for this subject, and will result\n",
      "in deletion of the overlays.svg file and all cached info\n",
      "for this subject (because flatmaps will fundamentally change).\n",
      "Proceed? [y]/n: y\n",
      "b'created by greve on Thu Apr 11 16:23:42 2013\\n'\n",
      "saving to /home/newpycortex/pycortex_db/fsaverage/surfaces/flat_lh.gii\n",
      "b'created by greve on Thu Apr 11 16:23:51 2013\\n'\n",
      "saving to /home/newpycortex/pycortex_db/fsaverage/surfaces/flat_rh.gii\n"
     ]
    }
   ],
   "source": [
    "## IMPORT FLAT MAP (note: you can ignore overlay error for new subject)\n",
    "cortex.freesurfer.import_flat(xx_subj, 'full', flat_type = 'fs6')"
   ]
  },
  {
   "cell_type": "markdown",
   "metadata": {},
   "source": [
    "<a id='align_xforms'></a>\n",
    "\n",
    "## ALIGNMENT AND TRANSFORMS\n",
    "\n"
   ]
  },
  {
   "cell_type": "markdown",
   "metadata": {},
   "source": [
    "<a id='inside_pc'></a>\n",
    "\n",
    "### CREATING TRANSFORMATIONS INSIDE PYCORTEX (linear only)\n",
    "\n"
   ]
  },
  {
   "cell_type": "code",
   "execution_count": 53,
   "metadata": {},
   "outputs": [],
   "source": [
    "output_folder = '/home/breedlov/SDB/nsd_results/transforms/'"
   ]
  },
  {
   "cell_type": "code",
   "execution_count": 61,
   "metadata": {},
   "outputs": [
    {
     "name": "stdout",
     "output_type": "stream",
     "text": [
      "Running freesurfer BBR\n",
      "Success\n"
     ]
    }
   ],
   "source": [
    "## CREATE PYCORTEX AUTO XFORM FOR SINGLE SUBJECT using auto align \n",
    "\n",
    "xx_subj = 'subj01'\n",
    "image2move = '/home/breedlov/SDB/nsd_results/subj01/func1pt8/mean.nii.gz'\n",
    "new_x_form = 'func1pt8_to_anat0pt8_autoFSbbr'\n",
    "cortex.align.automatic(xx_subj, new_x_form, image2move, use_fs_bbr=True) # with Freesurfers boundary based registration\n"
   ]
  },
  {
   "cell_type": "code",
   "execution_count": 62,
   "metadata": {},
   "outputs": [
    {
     "name": "stdout",
     "output_type": "stream",
     "text": [
      "Wrote:\n"
     ]
    },
    {
     "data": {
      "text/plain": [
       "array([[-0.99785985,  0.0422477 ,  0.04990541,  0.54383688],\n",
       "       [ 0.04341131, -0.14270093,  0.98881407,  1.71494748],\n",
       "       [-0.04889662, -0.98886438, -0.1405621 ,  0.47256394],\n",
       "       [ 0.        ,  0.        ,  0.        ,  1.        ]])"
      ]
     },
     "execution_count": 62,
     "metadata": {},
     "output_type": "execute_result"
    }
   ],
   "source": [
    "## CONVERT PYCORTEX XFORM TO FREESURFER XFORM (so you can check alignment with tkregisterfv)\n",
    "\n",
    "xx_subj = 'subj01'\n",
    "pc_xform_in = 'func1pt8_to_anat0pt8_autoFSbbr' \n",
    "fs_xform_out = f'{output_folder}/{xx_subj}_{pc_xform_in}.dat'\n",
    "cortex.db.get_xfm(xx_subj, pc_xform_in).to_freesurfer(fs_xform_out, xx_subj)\n",
    "\n",
    "# use with tkregisterfv --mov yourpath/mean.nii.gz --reg yourpath/subj01_func1pt8_to_anat0pt8_autoFSbbr.dat  --surfs"
   ]
  },
  {
   "cell_type": "code",
   "execution_count": 9,
   "metadata": {
    "scrolled": true
   },
   "outputs": [
    {
     "name": "stdout",
     "output_type": "stream",
     "text": [
      "\n",
      "\n",
      "creating xform for subj01...\n",
      "Running freesurfer BBR\n",
      "Success\n",
      "Wrote:\n",
      "\n",
      "\n",
      "creating xform for subj02...\n",
      "Running freesurfer BBR\n",
      "Success\n",
      "Wrote:\n",
      "\n",
      "\n",
      "creating xform for subj03...\n",
      "Running freesurfer BBR\n",
      "Success\n",
      "Wrote:\n",
      "\n",
      "\n",
      "creating xform for subj04...\n",
      "Running freesurfer BBR\n",
      "Success\n",
      "Wrote:\n",
      "\n",
      "\n",
      "creating xform for subj05...\n",
      "Running freesurfer BBR\n",
      "Success\n",
      "Wrote:\n",
      "\n",
      "\n",
      "creating xform for subj06...\n",
      "Running freesurfer BBR\n",
      "Success\n",
      "Wrote:\n",
      "\n",
      "\n",
      "creating xform for subj07...\n",
      "Running freesurfer BBR\n",
      "Success\n",
      "Wrote:\n",
      "\n",
      "\n",
      "creating xform for subj08...\n",
      "Running freesurfer BBR\n",
      "Success\n",
      "Wrote:\n"
     ]
    }
   ],
   "source": [
    "## CREATE PYCORTEX AUTO XFORM FOR MULTIPLE SUBJECTS - for each subj, auto align between input NSD image and anatomical\n",
    "## WHILE CONVERTING PC XFORM --> FS XFORM\n",
    "\n",
    "new_x_form = 'func1pt0_to_anat0pt8_autoFSbbr'\n",
    "\n",
    "for subj in range(1,9):\n",
    "    xx_subj = 'subj0%s' %(subj)\n",
    "    print (\"\\n\\ncreating xform for %s...\"  %(xx_subj))\n",
    "    \n",
    "    image2move = '/home/breedlov/SDB/nsd_results/subj0%s/func1pt0/mean.nii.gz' %(subj)\n",
    "    cortex.align.automatic(xx_subj, new_x_form, image2move, use_fs_bbr=True)\n",
    "    \n",
    "    # create freesurfer xform for checking how auto align did \n",
    "    fs_xform = output_folder + xx_subj + new_x_form + '.dat'\n",
    "    cortex.db.get_xfm(xx_subj, new_x_form).to_freesurfer(fs_xform, xx_subj)\n",
    "    "
   ]
  },
  {
   "cell_type": "markdown",
   "metadata": {
    "collapsed": true
   },
   "source": [
    "[back to top](#back_to_top)"
   ]
  },
  {
   "cell_type": "markdown",
   "metadata": {},
   "source": [
    "<a id='outside_pc'></a>\n",
    "\n",
    "### TRANSFORMING DATA OUTSIDE OF PYCORTEX \n",
    "\n",
    "USE NSD MAPDATA TO MOVE DATA FROM FUNCT > ANAT \\\n",
    "(can then just use 'identity' transform in pycortex to view this data on the cortical surface)\n"
   ]
  },
  {
   "cell_type": "code",
   "execution_count": 64,
   "metadata": {},
   "outputs": [
    {
     "name": "stdout",
     "output_type": "stream",
     "text": [
      "/home/breedlov/SDA/cmrr/nsd/nsddata\n"
     ]
    }
   ],
   "source": [
    "data_path = '/home/breedlov/SDB/nsd_results/'\n",
    "nsd_dir = nsd_datalocation()\n",
    "print (nsd_dir)"
   ]
  },
  {
   "cell_type": "code",
   "execution_count": 67,
   "metadata": {},
   "outputs": [],
   "source": [
    "# MAP FUNCT DATA/RESULTS TO ANAT SPACE FOR SINGLE SUBJ\n",
    "\n",
    "subjix = 1\n",
    "sourcedata = '/home/breedlov/SDB/nsd_results/subj01/func1pt8/mean.nii.gz'\n",
    "sourcespace = 'func1pt8'\n",
    "targetspace = 'anat0pt8'\n",
    "interpmethod = 'nearest'\n",
    "\n",
    "\n",
    "sd_shortname = sourcedata.split('/')[-1].split('.')[0]\n",
    "outputfile=f'{data_path}subj0{subjix}/{targetspace}/{sd_shortname}_in_{targetspace}_{interpmethod}.nii'\n",
    "\n",
    "targetdata = nsd_mapdata(\n",
    "    subjix,\n",
    "    sourcespace,\n",
    "    targetspace,\n",
    "    sourcedata,\n",
    "    interptype=interpmethod,\n",
    "    badval=0,\n",
    "    outputfile=outputfile)\n"
   ]
  },
  {
   "cell_type": "code",
   "execution_count": 65,
   "metadata": {
    "scrolled": true
   },
   "outputs": [
    {
     "name": "stdout",
     "output_type": "stream",
     "text": [
      "\n",
      "\n",
      "****************  subj01  ****************\n",
      "\n",
      "source data: /home/breedlov/SDB/nsd_results/subj01/func1pt8/val_cc_Feb-05-2020_1609.nii\n",
      "moving source data to anat0pt8 space....\n",
      "output data: /home/breedlov/SDB/nsd_results/subj01/anat0pt8/val_cc_Feb-05-2020_1609_in_anat0pt8_nearest.nii\n",
      "\n",
      "source data: /home/breedlov/SDB/nsd_results/subj01/func1pt8/rf_ang_Feb-05-2020_1609.nii\n",
      "moving source data to anat0pt8 space....\n",
      "output data: /home/breedlov/SDB/nsd_results/subj01/anat0pt8/rf_ang_Feb-05-2020_1609_in_anat0pt8_nearest.nii\n",
      "\n",
      "source data: /home/breedlov/SDB/nsd_results/subj01/func1pt8/rf_ecc_Feb-05-2020_1609.nii\n",
      "moving source data to anat0pt8 space....\n",
      "output data: /home/breedlov/SDB/nsd_results/subj01/anat0pt8/rf_ecc_Feb-05-2020_1609_in_anat0pt8_nearest.nii\n",
      "\n",
      "source data: /home/breedlov/SDB/nsd_results/subj01/func1pt8/rf_size_Feb-05-2020_1609.nii\n",
      "moving source data to anat0pt8 space....\n",
      "output data: /home/breedlov/SDB/nsd_results/subj01/anat0pt8/rf_size_Feb-05-2020_1609_in_anat0pt8_nearest.nii\n",
      "\n",
      "source data: /home/breedlov/SDB/nsd_results/subj01/func1pt8/layer_spread_Feb-05-2020_1609.nii\n",
      "moving source data to anat0pt8 space....\n",
      "output data: /home/breedlov/SDB/nsd_results/subj01/anat0pt8/layer_spread_Feb-05-2020_1609_in_anat0pt8_nearest.nii\n",
      "\n",
      "source data: /home/breedlov/SDB/nsd_results/subj01/func1pt8/layer_tuning_Feb-05-2020_1609.nii\n",
      "moving source data to anat0pt8 space....\n",
      "output data: /home/breedlov/SDB/nsd_results/subj01/anat0pt8/layer_tuning_Feb-05-2020_1609_in_anat0pt8_nearest.nii\n",
      "\n",
      "source data: /home/breedlov/SDB/nsd_results/subj01/func1pt8/mean.nii.gz\n",
      "moving source data to anat0pt8 space....\n",
      "output data: /home/breedlov/SDB/nsd_results/subj01/anat0pt8/mean_in_anat0pt8_nearest.nii\n",
      "\n",
      "\n",
      "****************  subj02  ****************\n",
      "\n",
      "source data: /home/breedlov/SDB/nsd_results/subj02/func1pt8/val_cc_Feb-07-2020_2237.nii\n",
      "moving source data to anat0pt8 space....\n",
      "output data: /home/breedlov/SDB/nsd_results/subj02/anat0pt8/val_cc_Feb-07-2020_2237_in_anat0pt8_nearest.nii\n",
      "\n",
      "source data: /home/breedlov/SDB/nsd_results/subj02/func1pt8/rf_ang_Feb-07-2020_2237.nii\n",
      "moving source data to anat0pt8 space....\n",
      "output data: /home/breedlov/SDB/nsd_results/subj02/anat0pt8/rf_ang_Feb-07-2020_2237_in_anat0pt8_nearest.nii\n",
      "\n",
      "source data: /home/breedlov/SDB/nsd_results/subj02/func1pt8/rf_ecc_Feb-07-2020_2237.nii\n",
      "moving source data to anat0pt8 space....\n",
      "output data: /home/breedlov/SDB/nsd_results/subj02/anat0pt8/rf_ecc_Feb-07-2020_2237_in_anat0pt8_nearest.nii\n",
      "\n",
      "source data: /home/breedlov/SDB/nsd_results/subj02/func1pt8/rf_size_Feb-07-2020_2237.nii\n",
      "moving source data to anat0pt8 space....\n",
      "output data: /home/breedlov/SDB/nsd_results/subj02/anat0pt8/rf_size_Feb-07-2020_2237_in_anat0pt8_nearest.nii\n",
      "\n",
      "source data: /home/breedlov/SDB/nsd_results/subj02/func1pt8/layer_spread_Feb-07-2020_2237.nii\n",
      "moving source data to anat0pt8 space....\n",
      "output data: /home/breedlov/SDB/nsd_results/subj02/anat0pt8/layer_spread_Feb-07-2020_2237_in_anat0pt8_nearest.nii\n",
      "\n",
      "source data: /home/breedlov/SDB/nsd_results/subj02/func1pt8/layer_tuning_Feb-07-2020_2237.nii\n",
      "moving source data to anat0pt8 space....\n",
      "output data: /home/breedlov/SDB/nsd_results/subj02/anat0pt8/layer_tuning_Feb-07-2020_2237_in_anat0pt8_nearest.nii\n",
      "\n",
      "source data: /home/breedlov/SDB/nsd_results/subj02/func1pt8/mean.nii.gz\n",
      "moving source data to anat0pt8 space....\n",
      "output data: /home/breedlov/SDB/nsd_results/subj02/anat0pt8/mean_in_anat0pt8_nearest.nii\n",
      "\n",
      "\n",
      "****************  subj03  ****************\n",
      "\n",
      "source data: /home/breedlov/SDB/nsd_results/subj03/func1pt8/val_cc_Feb-10-2020_2253.nii\n",
      "moving source data to anat0pt8 space....\n",
      "output data: /home/breedlov/SDB/nsd_results/subj03/anat0pt8/val_cc_Feb-10-2020_2253_in_anat0pt8_nearest.nii\n",
      "\n",
      "source data: /home/breedlov/SDB/nsd_results/subj03/func1pt8/rf_ang_Feb-10-2020_2253.nii\n",
      "moving source data to anat0pt8 space....\n",
      "output data: /home/breedlov/SDB/nsd_results/subj03/anat0pt8/rf_ang_Feb-10-2020_2253_in_anat0pt8_nearest.nii\n",
      "\n",
      "source data: /home/breedlov/SDB/nsd_results/subj03/func1pt8/rf_ecc_Feb-10-2020_2253.nii\n",
      "moving source data to anat0pt8 space....\n",
      "output data: /home/breedlov/SDB/nsd_results/subj03/anat0pt8/rf_ecc_Feb-10-2020_2253_in_anat0pt8_nearest.nii\n",
      "\n",
      "source data: /home/breedlov/SDB/nsd_results/subj03/func1pt8/rf_size_Feb-10-2020_2253.nii\n",
      "moving source data to anat0pt8 space....\n",
      "output data: /home/breedlov/SDB/nsd_results/subj03/anat0pt8/rf_size_Feb-10-2020_2253_in_anat0pt8_nearest.nii\n",
      "\n",
      "source data: /home/breedlov/SDB/nsd_results/subj03/func1pt8/layer_spread_Feb-10-2020_2253.nii\n",
      "moving source data to anat0pt8 space....\n",
      "output data: /home/breedlov/SDB/nsd_results/subj03/anat0pt8/layer_spread_Feb-10-2020_2253_in_anat0pt8_nearest.nii\n",
      "\n",
      "source data: /home/breedlov/SDB/nsd_results/subj03/func1pt8/layer_tuning_Feb-10-2020_2253.nii\n",
      "moving source data to anat0pt8 space....\n",
      "output data: /home/breedlov/SDB/nsd_results/subj03/anat0pt8/layer_tuning_Feb-10-2020_2253_in_anat0pt8_nearest.nii\n",
      "\n",
      "source data: /home/breedlov/SDB/nsd_results/subj03/func1pt8/mean.nii.gz\n",
      "moving source data to anat0pt8 space....\n",
      "output data: /home/breedlov/SDB/nsd_results/subj03/anat0pt8/mean_in_anat0pt8_nearest.nii\n",
      "\n",
      "\n",
      "****************  subj04  ****************\n",
      "\n",
      "source data: /home/breedlov/SDB/nsd_results/subj04/func1pt8/val_cc_Feb-12-2020_1225.nii\n",
      "moving source data to anat0pt8 space....\n",
      "output data: /home/breedlov/SDB/nsd_results/subj04/anat0pt8/val_cc_Feb-12-2020_1225_in_anat0pt8_nearest.nii\n",
      "\n",
      "source data: /home/breedlov/SDB/nsd_results/subj04/func1pt8/rf_ang_Feb-12-2020_1225.nii\n",
      "moving source data to anat0pt8 space....\n",
      "output data: /home/breedlov/SDB/nsd_results/subj04/anat0pt8/rf_ang_Feb-12-2020_1225_in_anat0pt8_nearest.nii\n",
      "\n",
      "source data: /home/breedlov/SDB/nsd_results/subj04/func1pt8/rf_ecc_Feb-12-2020_1225.nii\n",
      "moving source data to anat0pt8 space....\n",
      "output data: /home/breedlov/SDB/nsd_results/subj04/anat0pt8/rf_ecc_Feb-12-2020_1225_in_anat0pt8_nearest.nii\n",
      "\n",
      "source data: /home/breedlov/SDB/nsd_results/subj04/func1pt8/rf_size_Feb-12-2020_1225.nii\n",
      "moving source data to anat0pt8 space....\n",
      "output data: /home/breedlov/SDB/nsd_results/subj04/anat0pt8/rf_size_Feb-12-2020_1225_in_anat0pt8_nearest.nii\n",
      "\n",
      "source data: /home/breedlov/SDB/nsd_results/subj04/func1pt8/layer_spread_Feb-12-2020_1225.nii\n",
      "moving source data to anat0pt8 space....\n",
      "output data: /home/breedlov/SDB/nsd_results/subj04/anat0pt8/layer_spread_Feb-12-2020_1225_in_anat0pt8_nearest.nii\n",
      "\n",
      "source data: /home/breedlov/SDB/nsd_results/subj04/func1pt8/layer_tuning_Feb-12-2020_1225.nii\n",
      "moving source data to anat0pt8 space....\n",
      "output data: /home/breedlov/SDB/nsd_results/subj04/anat0pt8/layer_tuning_Feb-12-2020_1225_in_anat0pt8_nearest.nii\n",
      "\n",
      "source data: /home/breedlov/SDB/nsd_results/subj04/func1pt8/mean.nii.gz\n",
      "moving source data to anat0pt8 space....\n",
      "output data: /home/breedlov/SDB/nsd_results/subj04/anat0pt8/mean_in_anat0pt8_nearest.nii\n",
      "\n",
      "\n",
      "****************  subj05  ****************\n",
      "\n",
      "source data: /home/breedlov/SDB/nsd_results/subj05/func1pt8/val_cc_Feb-06-2020_2152.nii\n",
      "moving source data to anat0pt8 space....\n",
      "output data: /home/breedlov/SDB/nsd_results/subj05/anat0pt8/val_cc_Feb-06-2020_2152_in_anat0pt8_nearest.nii\n",
      "\n",
      "source data: /home/breedlov/SDB/nsd_results/subj05/func1pt8/rf_ang_Feb-06-2020_2152.nii\n",
      "moving source data to anat0pt8 space....\n",
      "output data: /home/breedlov/SDB/nsd_results/subj05/anat0pt8/rf_ang_Feb-06-2020_2152_in_anat0pt8_nearest.nii\n",
      "\n",
      "source data: /home/breedlov/SDB/nsd_results/subj05/func1pt8/rf_ecc_Feb-06-2020_2152.nii\n",
      "moving source data to anat0pt8 space....\n",
      "output data: /home/breedlov/SDB/nsd_results/subj05/anat0pt8/rf_ecc_Feb-06-2020_2152_in_anat0pt8_nearest.nii\n",
      "\n",
      "source data: /home/breedlov/SDB/nsd_results/subj05/func1pt8/rf_size_Feb-06-2020_2152.nii\n",
      "moving source data to anat0pt8 space....\n",
      "output data: /home/breedlov/SDB/nsd_results/subj05/anat0pt8/rf_size_Feb-06-2020_2152_in_anat0pt8_nearest.nii\n",
      "\n",
      "source data: /home/breedlov/SDB/nsd_results/subj05/func1pt8/layer_spread_Feb-06-2020_2152.nii\n",
      "moving source data to anat0pt8 space....\n",
      "output data: /home/breedlov/SDB/nsd_results/subj05/anat0pt8/layer_spread_Feb-06-2020_2152_in_anat0pt8_nearest.nii\n",
      "\n",
      "source data: /home/breedlov/SDB/nsd_results/subj05/func1pt8/layer_tuning_Feb-06-2020_2152.nii\n",
      "moving source data to anat0pt8 space....\n"
     ]
    },
    {
     "name": "stdout",
     "output_type": "stream",
     "text": [
      "output data: /home/breedlov/SDB/nsd_results/subj05/anat0pt8/layer_tuning_Feb-06-2020_2152_in_anat0pt8_nearest.nii\n",
      "\n",
      "source data: /home/breedlov/SDB/nsd_results/subj05/func1pt8/mean.nii.gz\n",
      "moving source data to anat0pt8 space....\n",
      "output data: /home/breedlov/SDB/nsd_results/subj05/anat0pt8/mean_in_anat0pt8_nearest.nii\n",
      "\n",
      "\n",
      "****************  subj06  ****************\n",
      "\n",
      "source data: /home/breedlov/SDB/nsd_results/subj06/func1pt8/val_cc_Feb-09-2020_1605.nii\n",
      "moving source data to anat0pt8 space....\n",
      "output data: /home/breedlov/SDB/nsd_results/subj06/anat0pt8/val_cc_Feb-09-2020_1605_in_anat0pt8_nearest.nii\n",
      "\n",
      "source data: /home/breedlov/SDB/nsd_results/subj06/func1pt8/rf_ang_Feb-09-2020_1605.nii\n",
      "moving source data to anat0pt8 space....\n",
      "output data: /home/breedlov/SDB/nsd_results/subj06/anat0pt8/rf_ang_Feb-09-2020_1605_in_anat0pt8_nearest.nii\n",
      "\n",
      "source data: /home/breedlov/SDB/nsd_results/subj06/func1pt8/rf_ecc_Feb-09-2020_1605.nii\n",
      "moving source data to anat0pt8 space....\n",
      "output data: /home/breedlov/SDB/nsd_results/subj06/anat0pt8/rf_ecc_Feb-09-2020_1605_in_anat0pt8_nearest.nii\n",
      "\n",
      "source data: /home/breedlov/SDB/nsd_results/subj06/func1pt8/rf_size_Feb-09-2020_1605.nii\n",
      "moving source data to anat0pt8 space....\n",
      "output data: /home/breedlov/SDB/nsd_results/subj06/anat0pt8/rf_size_Feb-09-2020_1605_in_anat0pt8_nearest.nii\n",
      "\n",
      "source data: /home/breedlov/SDB/nsd_results/subj06/func1pt8/layer_spread_Feb-09-2020_1605.nii\n",
      "moving source data to anat0pt8 space....\n",
      "output data: /home/breedlov/SDB/nsd_results/subj06/anat0pt8/layer_spread_Feb-09-2020_1605_in_anat0pt8_nearest.nii\n",
      "\n",
      "source data: /home/breedlov/SDB/nsd_results/subj06/func1pt8/layer_tuning_Feb-09-2020_1605.nii\n",
      "moving source data to anat0pt8 space....\n",
      "output data: /home/breedlov/SDB/nsd_results/subj06/anat0pt8/layer_tuning_Feb-09-2020_1605_in_anat0pt8_nearest.nii\n",
      "\n",
      "source data: /home/breedlov/SDB/nsd_results/subj06/func1pt8/mean.nii.gz\n",
      "moving source data to anat0pt8 space....\n",
      "output data: /home/breedlov/SDB/nsd_results/subj06/anat0pt8/mean_in_anat0pt8_nearest.nii\n",
      "\n",
      "\n",
      "****************  subj07  ****************\n",
      "\n",
      "Warning: there is no *val_cc* data file for subj07\n",
      "\n",
      "Warning: there is no *rf_ang* data file for subj07\n",
      "\n",
      "Warning: there is no *rf_ecc* data file for subj07\n",
      "\n",
      "Warning: there is no *rf_size* data file for subj07\n",
      "\n",
      "Warning: there is no *layer_spread* data file for subj07\n",
      "\n",
      "Warning: there is no *layer_tuning* data file for subj07\n",
      "\n",
      "source data: /home/breedlov/SDB/nsd_results/subj07/func1pt8/mean.nii.gz\n",
      "moving source data to anat0pt8 space....\n",
      "output data: /home/breedlov/SDB/nsd_results/subj07/anat0pt8/mean_in_anat0pt8_nearest.nii\n",
      "\n",
      "\n",
      "****************  subj08  ****************\n",
      "\n",
      "Warning: there is no *val_cc* data file for subj08\n",
      "\n",
      "Warning: there is no *rf_ang* data file for subj08\n",
      "\n",
      "Warning: there is no *rf_ecc* data file for subj08\n",
      "\n",
      "Warning: there is no *rf_size* data file for subj08\n",
      "\n",
      "Warning: there is no *layer_spread* data file for subj08\n",
      "\n",
      "Warning: there is no *layer_tuning* data file for subj08\n",
      "\n",
      "source data: /home/breedlov/SDB/nsd_results/subj08/func1pt8/mean.nii.gz\n",
      "moving source data to anat0pt8 space....\n",
      "output data: /home/breedlov/SDB/nsd_results/subj08/anat0pt8/mean_in_anat0pt8_nearest.nii\n"
     ]
    }
   ],
   "source": [
    "# MAP FUNCT DATA/RESULTS TO ANAT SPACE FOR MULTIPLE SUBJS\n",
    "# loop through subjects\n",
    "# look for nifti files with strings from [data_list] in the name\n",
    "# create a copy that is transformed into the desired space\n",
    "\n",
    "data_list = ['val_cc', 'rf_ang', 'rf_ecc', 'rf_size', 'layer_spread', 'layer_tuning', 'mean']\n",
    "\n",
    "sourcespace = 'func1pt8'\n",
    "targetspace = 'anat0pt8'\n",
    "interpmethod = 'nearest'\n",
    "\n",
    "for subjix in range(1,9):\n",
    "    print (\"\\n\\n****************  subj0%s  ****************\" %(subjix))\n",
    "    \n",
    "    for d in data_list:\n",
    "        \n",
    "        file_name = glob.glob(f'{data_path}subj0{subjix}/{sourcespace}/{d}*.nii*')\n",
    "        \n",
    "        if file_name==[]:\n",
    "            print('\\nWarning: there is no *%s* data file for subj0%s' %(d, subjix))\n",
    "        elif len(file_name) > 1:\n",
    "            print('\\nWarning: multiple *%s* data files for subj0%s, nothing was transformed' %(d, subjix))\n",
    "        else:\n",
    "            \n",
    "            sourcedata = file_name[0]\n",
    "            sd_shortname = sourcedata.split('/')[-1].split('.')[0]\n",
    "            \n",
    "            if not os.path.isdir(f'{data_path}subj0{subjix}/{targetspace}'):\n",
    "                os.mkdir(f'{data_path}subj0{subjix}/{targetspace}')\n",
    "                \n",
    "            outputfile=f'{data_path}subj0{subjix}/{targetspace}/{sd_shortname}_in_{targetspace}_{interpmethod}.nii'\n",
    "            print('\\nsource data:', sourcedata)\n",
    "            print('moving source data to %s space....' %(targetspace))\n",
    "            \n",
    "            targetdata = nsd_mapdata(\n",
    "                subjix,\n",
    "                sourcespace,\n",
    "                targetspace,\n",
    "                sourcedata,\n",
    "                interptype=interpmethod,\n",
    "                badval=0,\n",
    "                outputfile=outputfile)\n",
    "            \n",
    "            print ('output data:', outputfile)\n"
   ]
  },
  {
   "cell_type": "markdown",
   "metadata": {
    "collapsed": true
   },
   "source": [
    "[back to top](#back_to_top)"
   ]
  },
  {
   "cell_type": "markdown",
   "metadata": {},
   "source": [
    "<a id='pc_webv'></a>\n",
    "\n",
    "## PYCORTEX INTERACTIVE WEBVIEWER\n",
    "\n"
   ]
  },
  {
   "cell_type": "code",
   "execution_count": 60,
   "metadata": {},
   "outputs": [
    {
     "name": "stdout",
     "output_type": "stream",
     "text": [
      "Started server on port 25766\n",
      "Stopping server\n",
      "Stopping server\n",
      "Stopping server\n",
      "Stopping server\n"
     ]
    }
   ],
   "source": [
    "## VIEW DATA ON SURFACE IN BROWSER WINDOW\n",
    "\n",
    "xx_subj = 'subj01'\n",
    "data_file = '/nsd_results/subj01/anat0pt8/val_cc_Feb-05-2020_1609_in_anat0pt8_nearest.nii' \n",
    "x_form = 'identity' #'func1pt8_to_anat0pt8_autoFSbbr'\n",
    "\n",
    "data = nibabel.load(data_file) \n",
    "arr = data.get_fdata().T.astype(float) \n",
    "\n",
    "if x_form == 'identity':   #data that aligns to the subj anatomical must first be tipped forward 90deg then flipped left/right\n",
    "    arr = np.flip((np.rot90(arr, k=3)),2)\n",
    "    \n",
    "vol = cortex.Volume(arr, xx_subj, x_form)\n",
    "h = cortex.webgl.show(vol)"
   ]
  },
  {
   "cell_type": "code",
   "execution_count": 68,
   "metadata": {},
   "outputs": [
    {
     "name": "stdout",
     "output_type": "stream",
     "text": [
      "Started server on port 8775\n"
     ]
    }
   ],
   "source": [
    "## VIEW SUBJECTS OWN ANATOMICAL AS DATA USING BUILT IN IDENTITY TRANSFORM\n",
    "\n",
    "subj_xx = 'subj02'\n",
    "the_anat = cortex.db.get_anat(subj_xx, type='raw')\n",
    "arr = the_anat.get_fdata().T\n",
    "vol = cortex.Volume(arr, subj_xx, 'identity', recache=True)\n",
    "h = cortex.webgl.show(vol)"
   ]
  },
  {
   "cell_type": "code",
   "execution_count": 6,
   "metadata": {},
   "outputs": [
    {
     "name": "stdout",
     "output_type": "stream",
     "text": [
      "Started server on port 56964\n"
     ]
    }
   ],
   "source": [
    "## VIEW 2D DATA ON SURFACE \n",
    "\n",
    "xx_subj = 'subj01'\n",
    "x_form = 'identity' #'func1pt8_to_anat0pt8_autoFSbbr'\n",
    "\n",
    "data_file1 = '/nsd_results/subj01/anat0pt8/rf_ang_Feb-05-2020_1609_in_anat0pt8_nearest.nii' \n",
    "data_file2 = '/nsd_results/subj01/anat0pt8/val_cc_Feb-05-2020_1609_in_anat0pt8_nearest.nii'\n",
    "\n",
    "data1 = nibabel.load(data_file1) \n",
    "arr1 = data1.get_fdata().T.astype(float) \n",
    "data2 = nibabel.load(data_file2) \n",
    "arr2 = data2.get_fdata().T.astype(float) \n",
    "\n",
    "if x_form == 'identity':   #identity isn't quite true, data that aligns to the subj anatomical must first be tipped forward 90deg then flipped left/right\n",
    "    arr1 = np.flip((np.rot90(arr1, k=3)),2)\n",
    "    arr2 = np.flip((np.rot90(arr2, k=3)),2)\n",
    "\n",
    "vol2D = cortex.Volume2D(arr1, arr2, xx_subj, x_form)\n",
    "h = cortex.webgl.show(vol2D)"
   ]
  },
  {
   "cell_type": "code",
   "execution_count": 69,
   "metadata": {},
   "outputs": [
    {
     "name": "stdout",
     "output_type": "stream",
     "text": [
      "Started server on port 62992\n"
     ]
    }
   ],
   "source": [
    "## VIEW MULTIPLE DATASETS IN SINGLE SESSION\n",
    "## note: toggle between them using expandable box in the top left corner; you can also combine two datasets in the\n",
    "## the webviewer by clicking and dragging mouse over 2 of these labels (this creates a 2D dataset)\n",
    "\n",
    "xx_subj = 'subj01'\n",
    "x_form = 'identity' #'func1pt8_to_anat0pt8_autoFSbbr'\n",
    "\n",
    "data_file1 = '/nsd_results/subj01/anat0pt8/visB_v_model_cc_Feb-05-2020_1609_in_anat0pt8_nearest.nii' \n",
    "data_file2 = '/nsd_results/subj01/anat0pt8/imgB12_v_model_cc_Feb-05-2020_1609_in_anat0pt8_nearest.nii'\n",
    "\n",
    "\n",
    "data1 = nibabel.load(data_file1) \n",
    "arr1 = data1.get_fdata().T.astype(float) \n",
    "data2 = nibabel.load(data_file2) \n",
    "arr2 = data2.get_fdata().T.astype(float) \n",
    "\n",
    "if x_form == 'identity':   #data that aligns to the subj anatomical must first be tipped forward 90deg then flipped left/right\n",
    "    arr1 = np.flip((np.rot90(arr1, k=3)),2)\n",
    "    arr2 = np.flip((np.rot90(arr2, k=3)),2)\n",
    "\n",
    "vol1 = cortex.Volume(arr1, xx_subj, x_form)    \n",
    "vol2 = cortex.Volume(arr2, xx_subj, x_form) #just repeat the above steps for more than 2 vols  \n",
    "\n",
    "volumes = {\n",
    "\t'visB_v_model_cc': vol1,\n",
    "\t'imgB_v_model_cc': vol2\n",
    "}\n",
    "\n",
    "h = cortex.webgl.show(data=volumes)"
   ]
  },
  {
   "cell_type": "code",
   "execution_count": 5,
   "metadata": {},
   "outputs": [
    {
     "data": {
      "text/plain": [
       "[{}]"
      ]
     },
     "execution_count": 5,
     "metadata": {},
     "output_type": "execute_result"
    }
   ],
   "source": [
    "# SAVE CURRENTLY DISPLAYED VIEW TO A .png IMAGE FILE \n",
    "\n",
    "h.getImage('/nsd_results/test.png', size=(1920,1080))"
   ]
  },
  {
   "cell_type": "markdown",
   "metadata": {
    "collapsed": true
   },
   "source": [
    "[back to top](#back_to_top)"
   ]
  }
 ],
 "metadata": {
  "kernelspec": {
   "display_name": "Python 3",
   "language": "python",
   "name": "python3"
  },
  "language_info": {
   "codemirror_mode": {
    "name": "ipython",
    "version": 3
   },
   "file_extension": ".py",
   "mimetype": "text/x-python",
   "name": "python",
   "nbconvert_exporter": "python",
   "pygments_lexer": "ipython3",
   "version": "3.7.4"
  }
 },
 "nbformat": 4,
 "nbformat_minor": 2
}
